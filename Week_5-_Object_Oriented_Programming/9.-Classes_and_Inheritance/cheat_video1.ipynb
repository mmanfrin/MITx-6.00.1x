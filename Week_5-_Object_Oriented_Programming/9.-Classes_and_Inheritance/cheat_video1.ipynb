{
 "nbformat": 4,
 "nbformat_minor": 2,
 "metadata": {
  "language_info": {
   "name": "python",
   "codemirror_mode": {
    "name": "ipython",
    "version": 3
   },
   "version": "3.8.2-final"
  },
  "orig_nbformat": 2,
  "file_extension": ".py",
  "mimetype": "text/x-python",
  "name": "python",
  "npconvert_exporter": "python",
  "pygments_lexer": "ipython3",
  "version": 3,
  "kernelspec": {
   "name": "python38164bitf6fa246c591643faa6cd4e2dadee7da6",
   "display_name": "Python 3.8.1 64-bit"
  }
 },
 "cells": [
  {
   "cell_type": "markdown",
   "execution_count": null,
   "metadata": {},
   "outputs": [],
   "source": [
    "Video 1 - classes and instance<br>\n",
    "https://www.youtube.com/watch?v=ZDa-Z5JzLYM"
   ]
  },
  {
   "cell_type": "code",
   "execution_count": null,
   "metadata": {},
   "outputs": [],
   "source": [
    "# Criando class\n",
    "class Employee:\n",
    "    \n",
    "\t# def atributs\n",
    "\tdef __init__(self, first, last, pay):\n",
    "\t\tself.first = first\n",
    "\t\tself.last = last\n",
    "\t\tself.pay = pay\n",
    "\t\tself.email = first + '.' + last + '@email.com'\n",
    "\n",
    "\t# def methods\n",
    "\t# def print full name\n",
    "\tdef fullname(self):\n",
    "\t\t# self. <- get from instance on print - print(emp_1.fullname())\n",
    "\t\treturn '{} {}'.format(emp_2.first, self.last)"
   ]
  },
  {
   "cell_type": "code",
   "execution_count": null,
   "metadata": {},
   "outputs": [],
   "source": [
    "# add valores da instance\n",
    "emp_1 = Employee('Marcos', 'Manfrin', 50000)\n",
    "emp_2 = Employee('Test', 'User', 40000)"
   ]
  },
  {
   "cell_type": "code",
   "execution_count": null,
   "metadata": {},
   "outputs": [],
   "source": [
    "# print var from instance\n",
    "print(emp_1.first)\n",
    "\n",
    "# print vars, formated / used on fullname method\n",
    "print('{} {} - {}'.format(emp_1.first, emp_2.last, emp_1.email))\n",
    "\n",
    "# print full name - with method\n",
    "print(emp_1.fullname())"
   ]
  },
  {
   "cell_type": "code",
   "execution_count": null,
   "metadata": {},
   "outputs": [],
   "source": [
    "# print classic way (not pythonic)\n",
    "print(Employee.fullname(emp_1))\n",
    "print(Employee.fullname(emp_2))"
   ]
  }
 ]
}