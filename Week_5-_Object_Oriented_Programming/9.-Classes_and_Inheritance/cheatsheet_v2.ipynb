{
 "nbformat": 4,
 "nbformat_minor": 2,
 "metadata": {
  "language_info": {
   "name": "python",
   "codemirror_mode": {
    "name": "ipython",
    "version": 3
   },
   "version": "3.8.2-final"
  },
  "orig_nbformat": 2,
  "file_extension": ".py",
  "mimetype": "text/x-python",
  "name": "python",
  "npconvert_exporter": "python",
  "pygments_lexer": "ipython3",
  "version": 3,
  "kernelspec": {
   "name": "python38164bitf6fa246c591643faa6cd4e2dadee7da6",
   "display_name": "Python 3.8.1 64-bit"
  }
 },
 "cells": [
  {
   "cell_type": "markdown",
   "execution_count": null,
   "metadata": {},
   "outputs": [],
   "source": [
    "Video 2 - class variables<br>\n",
    "https://www.youtube.com/watch?v=BJ-VvGyQxho"
   ]
  },
  {
   "cell_type": "code",
   "execution_count": null,
   "metadata": {},
   "outputs": [],
   "source": [
    "# Criando class\n",
    "class Employee:\n",
    "    \n",
    "    # def atributs\n",
    "    def __init__(self, first, last, pay):\n",
    "        self.first = first\n",
    "        self.last = last\n",
    "        self.pay = pay\n",
    "        self.email = first + '.' + last + '@email.com'\n",
    "\n",
    "    # def methods\n",
    "    # def print full name\n",
    "    def fullName(self):\n",
    "        # self. <- get from instance on print - print(emp_1.fullname())\n",
    "        return '{} {}'.format(emp_2.first, self.last)\n",
    "\n",
    "    # def apply raise\n",
    "    def applyRaise(self):\n",
    "        self.pay = int(self.pay * 1.04)"
   ]
  },
  {
   "cell_type": "code",
   "execution_count": null,
   "metadata": {},
   "outputs": [],
   "source": [
    "# add valores da instance\n",
    "emp_1 = Employee('Marcos', 'Manfrin', 50000)\n",
    "emp_2 = Employee('Test', 'User', 40000)"
   ]
  },
  {
   "cell_type": "code",
   "execution_count": null,
   "metadata": {},
   "outputs": [],
   "source": [
    "print(emp_1.pay)\n",
    "\n",
    "# call method applyRaise\n",
    "emp_1.applyRaise()\n",
    "\n",
    "print(emp_1.pay)"
   ]
  },
  {
   "cell_type": "code",
   "execution_count": null,
   "metadata": {},
   "outputs": [],
   "source": [
    "class Employee:\n",
    "    \n",
    "    # class variables\n",
    "    # changed from method to variable\n",
    "    raiseAmount = 1.04\n",
    "\n",
    "    # def atributs\n",
    "    def __init__(self, first, last, pay):\n",
    "        self.first = first\n",
    "        self.last = last\n",
    "        self.pay = pay\n",
    "        self.email = first + '.' + last + '@email.com'\n",
    "\n",
    "    # def methods\n",
    "    # def print full name\n",
    "    def fullName(self):\n",
    "        # self. <- get from instance on print - print(emp_1.fullname())\n",
    "        return '{} {}'.format(emp_2.first, self.last)\n",
    "\n",
    "    # def apply raise\n",
    "    def applyRaise(self):\n",
    "        self.pay = int(self.pay * self.raiseAmount)\n"
   ]
  },
  {
   "cell_type": "code",
   "execution_count": null,
   "metadata": {},
   "outputs": [],
   "source": [
    "# add instance values\n",
    "emp_1 = Employee('Marcos', 'Manfrin', 50000)\n",
    "emp_2 = Employee('Test', 'User', 40000)"
   ]
  },
  {
   "cell_type": "code",
   "execution_count": null,
   "metadata": {},
   "outputs": [],
   "source": [
    "print(emp_1.pay)\n",
    "print(emp_2.pay)\n",
    "\n",
    "# class raise amount\n",
    "print(Employee.raiseAmount)\n",
    "\n",
    "# instance raise amount\n",
    "print(emp_1.raiseAmount)\n",
    "print(emp_2.raiseAmount)\n",
    "\n",
    "# method applyRaise\n",
    "emp_1.applyRaise()\n",
    "\n",
    "print(emp_1.pay)\n",
    "print(emp_2.pay)\n"
   ]
  },
  {
   "cell_type": "code",
   "execution_count": null,
   "metadata": {},
   "outputs": [],
   "source": [
    "# Values visualization\n",
    "print(emp_1.__dict__)\n",
    "print(Employee.__dict__)"
   ]
  },
  {
   "cell_type": "code",
   "execution_count": null,
   "metadata": {},
   "outputs": [],
   "source": [
    "# change instance raise amount\n",
    "emp_1.raiseAmount = 1.05"
   ]
  },
  {
   "cell_type": "code",
   "execution_count": null,
   "metadata": {},
   "outputs": [],
   "source": [
    "print(emp_1.pay)\n",
    "\n",
    "# class raise amount\n",
    "print(Employee.raiseAmount)\n",
    "\n",
    "# instance raise amount\n",
    "print(emp_1.raiseAmount)\n",
    "print(emp_2.raiseAmount)\n",
    "\n",
    "# method applyRaise\n",
    "emp_1.applyRaise()\n",
    "\n",
    "print(emp_1.pay)"
   ]
  },
  {
   "cell_type": "code",
   "execution_count": null,
   "metadata": {},
   "outputs": [],
   "source": [
    "class Employee:\n",
    "    \n",
    "    # class variables\n",
    "    # COUNTER entries\n",
    "    numEmp = 0\n",
    "\n",
    "    # changed from method to variable\n",
    "    raiseAmount = 1.04\n",
    "\n",
    "\n",
    "    # def atributs\n",
    "    def __init__(self, first, last, pay):\n",
    "        self.first = first\n",
    "        self.last = last\n",
    "        self.pay = pay\n",
    "        self.email = first + '.' + last + '@email.com'\n",
    "        \n",
    "        # COUNTER entries\n",
    "        Employee.numEmp += 1\n",
    "\n",
    "    # def methods\n",
    "    # def print full name\n",
    "    def fullName(self):\n",
    "        # self. <- get from instance on print - print(emp_1.fullname())\n",
    "        return '{} {}'.format(emp_2.first, self.last)\n",
    "\n",
    "    # def apply raise\n",
    "    def applyRaise(self):\n",
    "        self.pay = int(self.pay * self.raiseAmount)\n"
   ]
  },
  {
   "cell_type": "code",
   "execution_count": null,
   "metadata": {},
   "outputs": [],
   "source": [
    "# Check num employees\n",
    "print(Employee.numEmp)\n",
    "\n",
    "# add instance values\n",
    "emp_1 = Employee('Marcos', 'Manfrin', 50000)\n",
    "emp_2 = Employee('Test', 'User', 40000)\n",
    "\n",
    "# Check num employees\n",
    "print(Employee.numEmp)"
   ]
  }
 ]
}